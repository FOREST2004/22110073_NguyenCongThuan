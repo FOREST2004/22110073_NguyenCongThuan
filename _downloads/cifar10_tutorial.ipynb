{
  "cells": [
    {
      "cell_type": "code",
      "execution_count": 13,
      "metadata": {
        "id": "j0cN2hlgJ9tY"
      },
      "outputs": [],
      "source": [
        "%matplotlib inline"
      ]
    },
    {
      "cell_type": "markdown",
      "metadata": {
        "id": "Jq87gHnxJ9tZ"
      },
      "source": [
        "\n",
        "Training a Classifier\n",
        "=====================\n",
        "\n",
        "This is it. You have seen how to define neural networks, compute loss and make\n",
        "updates to the weights of the network.\n",
        "\n",
        "Now you might be thinking,\n",
        "\n",
        "What about data?\n",
        "----------------\n",
        "\n",
        "Generally, when you have to deal with image, text, audio or video data,\n",
        "you can use standard python packages that load data into a numpy array.\n",
        "Then you can convert this array into a ``torch.*Tensor``.\n",
        "\n",
        "-  For images, packages such as Pillow, OpenCV are useful\n",
        "-  For audio, packages such as scipy and librosa\n",
        "-  For text, either raw Python or Cython based loading, or NLTK and\n",
        "   SpaCy are useful\n",
        "\n",
        "Specifically for vision, we have created a package called\n",
        "``torchvision``, that has data loaders for common datasets such as\n",
        "Imagenet, CIFAR10, MNIST, etc. and data transformers for images, viz.,\n",
        "``torchvision.datasets`` and ``torch.utils.data.DataLoader``.\n",
        "\n",
        "This provides a huge convenience and avoids writing boilerplate code.\n",
        "\n",
        "For this tutorial, we will use the CIFAR10 dataset.\n",
        "It has the classes: ‘airplane’, ‘automobile’, ‘bird’, ‘cat’, ‘deer’,\n",
        "‘dog’, ‘frog’, ‘horse’, ‘ship’, ‘truck’. The images in CIFAR-10 are of\n",
        "size 3x32x32, i.e. 3-channel color images of 32x32 pixels in size.\n",
        "\n",
        ".. figure:: /_static/img/cifar10.png\n",
        "   :alt: cifar10\n",
        "\n",
        "   cifar10\n",
        "\n",
        "\n",
        "Training an image classifier\n",
        "----------------------------\n",
        "\n",
        "We will do the following steps in order:\n",
        "\n",
        "1. Load and normalizing the CIFAR10 training and test datasets using\n",
        "   ``torchvision``\n",
        "2. Define a Convolution Neural Network\n",
        "3. Define a loss function\n",
        "4. Train the network on the training data\n",
        "5. Test the network on the test data\n",
        "\n",
        "1. Loading and normalizing CIFAR10\n",
        "^^^^^^^^^^^^^^^^^^^^^^^^^^^^^^^^^^\n",
        "\n",
        "Using ``torchvision``, it’s extremely easy to load CIFAR10.\n",
        "\n"
      ]
    },
    {
      "cell_type": "code",
      "execution_count": 14,
      "metadata": {
        "id": "927biaDgJ9ta"
      },
      "outputs": [],
      "source": [
        "import torch\n",
        "import torchvision\n",
        "import torchvision.transforms as transforms"
      ]
    },
    {
      "cell_type": "markdown",
      "metadata": {
        "id": "dqhtNZDlJ9ta"
      },
      "source": [
        "The output of torchvision datasets are PILImage images of range [0, 1].\n",
        "We transform them to Tensors of normalized range [-1, 1].\n",
        "\n"
      ]
    },
    {
      "cell_type": "code",
      "execution_count": 15,
      "metadata": {
        "colab": {
          "base_uri": "https://localhost:8080/"
        },
        "id": "qjcOLFIdJ9ta",
        "outputId": "eda71e58-32c6-4f3b-aabe-9582616de786"
      },
      "outputs": [
        {
          "output_type": "stream",
          "name": "stderr",
          "text": [
            "100%|██████████| 170M/170M [00:05<00:00, 29.9MB/s]\n"
          ]
        }
      ],
      "source": [
        "transform = transforms.Compose(\n",
        "    [transforms.ToTensor(),\n",
        "     transforms.Normalize((0.5, 0.5, 0.5), (0.5, 0.5, 0.5))])\n",
        "\n",
        "trainset = torchvision.datasets.CIFAR10(root='./data', train=True,\n",
        "                                        download=True, transform=transform)\n",
        "trainloader = torch.utils.data.DataLoader(trainset, batch_size=4,\n",
        "                                          shuffle=True, num_workers=2)\n",
        "\n",
        "testset = torchvision.datasets.CIFAR10(root='./data', train=False,\n",
        "                                       download=True, transform=transform)\n",
        "testloader = torch.utils.data.DataLoader(testset, batch_size=4,\n",
        "                                         shuffle=False, num_workers=2)\n",
        "\n",
        "classes = ('plane', 'car', 'bird', 'cat',\n",
        "           'deer', 'dog', 'frog', 'horse', 'ship', 'truck')"
      ]
    },
    {
      "cell_type": "markdown",
      "metadata": {
        "id": "lKnmnkz4J9tb"
      },
      "source": [
        "Let us show some of the training images, for fun.\n",
        "\n"
      ]
    },
    {
      "cell_type": "code",
      "execution_count": 17,
      "metadata": {
        "colab": {
          "base_uri": "https://localhost:8080/",
          "height": 211
        },
        "id": "b9-kH4LlJ9tb",
        "outputId": "78c01edf-7260-4c74-946b-a929da48e9c7"
      },
      "outputs": [
        {
          "output_type": "stream",
          "name": "stdout",
          "text": [
            "truck  bird truck horse\n"
          ]
        },
        {
          "output_type": "display_data",
          "data": {
            "text/plain": [
              "<Figure size 640x480 with 1 Axes>"
            ],
            "image/png": "[encoded data removed]"
          },
          "metadata": {}
        }
      ],
      "source": [
        "import matplotlib.pyplot as plt\n",
        "import numpy as np\n",
        "\n",
        "# functions to show an image\n",
        "\n",
        "\n",
        "def imshow(img):\n",
        "    img = img / 2 + 0.5     # unnormalize\n",
        "    npimg = img.numpy()\n",
        "    plt.imshow(np.transpose(npimg, (1, 2, 0)))\n",
        "\n",
        "\n",
        "# get some random training images\n",
        "dataiter = iter(trainloader)\n",
        "# Use next(dataiter) instead of dataiter.next()\n",
        "images, labels = next(dataiter)\n",
        "\n",
        "# show images\n",
        "imshow(torchvision.utils.make_grid(images))\n",
        "# print labels\n",
        "print(' '.join('%5s' % classes[labels[j]] for j in range(4)))"
      ]
    },
    {
      "cell_type": "markdown",
      "metadata": {
        "id": "eX3Oy0EiJ9tc"
      },
      "source": [
        "2. Define a Convolution Neural Network\n",
        "^^^^^^^^^^^^^^^^^^^^^^^^^^^^^^^^^^^^^^\n",
        "Copy the neural network from the Neural Networks section before and modify it to\n",
        "take 3-channel images (instead of 1-channel images as it was defined).\n",
        "\n"
      ]
    },
    {
      "cell_type": "code",
      "execution_count": 22,
      "metadata": {
        "colab": {
          "base_uri": "https://localhost:8080/"
        },
        "id": "HixH7qCaJ9tc",
        "outputId": "f43a65d3-be61-4cdd-fded-bef38188ada2"
      },
      "outputs": [
        {
          "output_type": "stream",
          "name": "stdout",
          "text": [
            "model\n",
            "cuda:0\n",
            "----------------------------------------------------------------\n",
            "        Layer (type)               Output Shape         Param #\n",
            "================================================================\n",
            "            Conv2d-1           [-1, 32, 30, 30]           2,432\n",
            "            Conv2d-2           [-1, 32, 32, 32]           9,248\n",
            "            Conv2d-3           [-1, 32, 32, 32]           9,248\n",
            "            Conv2d-4           [-1, 32, 32, 32]           9,248\n",
            "            Conv2d-5           [-1, 32, 32, 32]           9,248\n",
            "            Conv2d-6           [-1, 32, 32, 32]           9,248\n",
            "            Conv2d-7           [-1, 32, 32, 32]           9,248\n",
            "         MaxPool2d-8           [-1, 32, 16, 16]               0\n",
            "         MaxPool2d-9           [-1, 32, 16, 16]               0\n",
            "           Conv2d-10           [-1, 64, 16, 16]          51,264\n",
            "           Conv2d-11           [-1, 32, 16, 16]           9,248\n",
            "           Conv2d-12           [-1, 32, 16, 16]           9,248\n",
            "           Conv2d-13           [-1, 32, 16, 16]           9,248\n",
            "           Conv2d-14           [-1, 64, 16, 16]         102,464\n",
            "           Conv2d-15           [-1, 64, 16, 16]         102,464\n",
            "           Conv2d-16           [-1, 64, 16, 16]         102,464\n",
            "           Conv2d-17           [-1, 64, 16, 16]         102,464\n",
            "           Conv2d-18           [-1, 64, 16, 16]         102,464\n",
            "           Conv2d-19           [-1, 64, 16, 16]         102,464\n",
            "           Conv2d-20           [-1, 64, 16, 16]         102,464\n",
            "           Conv2d-21           [-1, 64, 16, 16]         102,464\n",
            "           Conv2d-22           [-1, 96, 16, 16]         230,496\n",
            "           Conv2d-23          [-1, 512, 12, 12]       2,458,112\n",
            "           Conv2d-24            [-1, 512, 4, 4]       6,554,112\n",
            "           Linear-25                  [-1, 512]       4,194,816\n",
            "           Linear-26                   [-1, 10]           5,130\n",
            "================================================================\n",
            "Total params: 14,399,306\n",
            "Trainable params: 14,399,306\n",
            "Non-trainable params: 0\n",
            "----------------------------------------------------------------\n",
            "Input size (MB): 0.01\n",
            "Forward/backward pass size (MB): 3.97\n",
            "Params size (MB): 54.93\n",
            "Estimated Total Size (MB): 58.91\n",
            "----------------------------------------------------------------\n"
          ]
        }
      ],
      "source": [
        "import torch\n",
        "import torch.nn as nn\n",
        "import torch.nn.functional as F\n",
        "from torchsummary import summary\n",
        "\n",
        "class Model3(nn.Module):\n",
        "    def __init__(self):\n",
        "        super(Model3, self).__init__()\n",
        "        self.conv1 = nn.Conv2d(3, 32, 5, stride=1, padding=1)\n",
        "        self.conv2 = nn.Conv2d(32, 32, 3, stride=1, padding=2)\n",
        "        self.conv3 = nn.Conv2d(32, 32, 3, stride=1, padding=1)\n",
        "        self.conv4 = nn.Conv2d(32, 32, 3, stride=1, padding=1)\n",
        "        self.conv5 = nn.Conv2d(32, 32, 3, stride=1, padding=1)\n",
        "        self.conv6 = nn.Conv2d(32, 32, 3, stride=1, padding=1)\n",
        "        self.conv7 = nn.Conv2d(32, 32, 3, stride=1, padding=1)\n",
        "        self.pool8 = nn.MaxPool2d(2, 2)\n",
        "\n",
        "        self.conv9 = nn.Conv2d(32, 32, 3, stride=1, padding=1)\n",
        "        self.conv10 = nn.Conv2d(32, 32, 3, stride=1, padding=1)\n",
        "        self.conv11 = nn.Conv2d(32, 32, 3, stride=1, padding=1)\n",
        "        self.conv12 = nn.Conv2d(32, 64, 5, stride=1, padding=2)\n",
        "        self.conv13 = nn.Conv2d(64, 64, 5, stride=1, padding=2)\n",
        "        self.conv14 = nn.Conv2d(64, 64, 5, stride=1, padding=2)\n",
        "        self.conv15 = nn.Conv2d(64, 64, 5, stride=1, padding=2)\n",
        "        self.conv16 = nn.Conv2d(64, 64, 5, stride=1, padding=2)\n",
        "        self.conv17 = nn.Conv2d(64, 64, 5, stride=1, padding=2)\n",
        "        self.conv18 = nn.Conv2d(64, 64, 5, stride=1, padding=2)\n",
        "        self.conv19 = nn.Conv2d(64, 64, 5, stride=1, padding=2)\n",
        "        self.conv20 = nn.Conv2d(64, 64, 5, stride=1, padding=2)\n",
        "\n",
        "        self.conv21 = nn.Conv2d(96, 96, 5, stride=1, padding=2)\n",
        "\n",
        "        self.pool22 = nn.MaxPool2d(2, 2)\n",
        "\n",
        "        self.conv23 = nn.Conv2d(192, 512, 5, stride=1, padding=0)\n",
        "        self.conv24 = nn.Conv2d(512, 512, 5, stride=2, padding=0)\n",
        "\n",
        "        self.fc1 = nn.Linear(512 * 4 * 4, 512)\n",
        "        self.fc2 = nn.Linear(512, 10)\n",
        "        # self.fc3 = nn.Linear(512, 10)\n",
        "\n",
        "\n",
        "\n",
        "\n",
        "\n",
        "    def forward(self, x):\n",
        "        x = F.relu(self.conv1(x))\n",
        "        x = F.relu(self.conv2(x))\n",
        "\n",
        "        x1 = F.relu(self.conv3(x))\n",
        "        x1 = F.relu(self.conv4(x1))\n",
        "        x1 = F.relu(self.conv5(x1))\n",
        "\n",
        "        x2 = F.relu(self.conv6(x))\n",
        "        x2 = F.relu(self.conv7(x2))\n",
        "\n",
        "        x = x1 + x2\n",
        "        xpool22 = self.pool22(x)\n",
        "\n",
        "        x1 = self.pool8(x1)\n",
        "\n",
        "        x1_1 = F.relu(self.conv12(x1))\n",
        "\n",
        "        x1_2 = F.relu(self.conv9(x1))\n",
        "        x1_2 = F.relu(self.conv10(x1_2))\n",
        "        x1_2 = F.relu(self.conv11(x1_2))\n",
        "\n",
        "        x1_1_1 = F.relu(self.conv13(x1_1))\n",
        "        x1_1_1 = F.relu(self.conv14(x1_1_1))\n",
        "\n",
        "        x1_1_1_1 = F.relu(self.conv15(x1_1_1))\n",
        "        x1_1_1_2 = F.relu(self.conv18(x1_1_1))\n",
        "        x1_1_1_2 = F.relu(self.conv19(x1_1_1_2))\n",
        "        x1_1_1_2 = F.relu(self.conv20(x1_1_1_2))\n",
        "\n",
        "        x1_1_2 = F.relu(self.conv16(x1_1))\n",
        "        x1_1_2 = F.relu(self.conv17(x1_1_2))\n",
        "\n",
        "\n",
        "        x17plus15 = x1_1_2 + x1_1_1_1 #thử 17=17+15\n",
        "\n",
        "        x11join20 = torch.cat((x1_2 , x1_1_1_2), dim=1)\n",
        "\n",
        "        x11join20_1 = F.relu(self.conv21(x11join20))\n",
        "\n",
        "        x17plus15JOIN21 = torch.cat((x17plus15 , x11join20_1), dim=1)\n",
        "\n",
        "\n",
        "\n",
        "\n",
        "        xresult = torch.cat((x17plus15JOIN21 , xpool22), dim=1)\n",
        "\n",
        "        xresult = F.relu(self.conv23(xresult))\n",
        "        xresult = F.relu(self.conv24(xresult))\n",
        "\n",
        "\n",
        "        xresult = xresult.view(-1, 512 * 4 * 4)\n",
        "        xresult = F.relu(self.fc1(xresult))\n",
        "        # xresult = F.relu(self.fc2(xresult))\n",
        "        xresult = self.fc2(xresult)\n",
        "\n",
        "\n",
        "\n",
        "        return xresult\n",
        "\n",
        "\n",
        "net = Model3()\n",
        "print(\"model\")\n",
        "# Define the device here, before the training loop\n",
        "device = torch.device(\"cuda:0\" if torch.cuda.is_available() else \"cpu\")\n",
        "print(device)\n",
        "\n",
        "# If using CUDA, move the model to the device\n",
        "if torch.cuda.is_available():\n",
        "    net = net.cuda()\n",
        "\n",
        "\n",
        "summary(net, (3, 32, 32))"
      ]
    },
    {
      "cell_type": "markdown",
      "metadata": {
        "id": "r15Lg7y8J9tc"
      },
      "source": [
        "3. Define a Loss function and optimizer\n",
        "^^^^^^^^^^^^^^^^^^^^^^^^^^^^^^^^^^^^^^^\n",
        "Let's use a Classification Cross-Entropy loss and SGD with momentum.\n",
        "\n"
      ]
    },
    {
      "cell_type": "code",
      "execution_count": 23,
      "metadata": {
        "id": "4whqm79KJ9td"
      },
      "outputs": [],
      "source": [
        "import torch.optim as optim\n",
        "\n",
        "criterion = nn.CrossEntropyLoss()\n",
        "optimizer = optim.SGD(net.parameters(), lr=0.001, momentum=0.9)"
      ]
    },
    {
      "cell_type": "markdown",
      "metadata": {
        "id": "krS-E_sEJ9td"
      },
      "source": [
        "4. Train the network\n",
        "^^^^^^^^^^^^^^^^^^^^\n",
        "\n",
        "This is when things start to get interesting.\n",
        "We simply have to loop over our data iterator, and feed the inputs to the\n",
        "network and optimize.\n",
        "\n"
      ]
    },
    {
      "cell_type": "code",
      "execution_count": null,
      "metadata": {
        "colab": {
          "base_uri": "https://localhost:8080/"
        },
        "id": "dEDNE1GoJ9td",
        "outputId": "4ed0e52e-5504-4043-a1b2-47b7240657e8"
      },
      "outputs": [
        {
          "output_type": "stream",
          "name": "stdout",
          "text": [
            "[1,  2000] loss: 1.224\n",
            "[1,  4000] loss: 1.199\n",
            "[1,  6000] loss: 1.149\n",
            "[1,  8000] loss: 1.124\n",
            "[1, 10000] loss: 1.078\n",
            "[1, 12000] loss: 1.034\n",
            "[2,  2000] loss: 0.937\n",
            "[2,  4000] loss: 0.917\n",
            "[2,  6000] loss: 0.888\n",
            "[2,  8000] loss: 0.884\n",
            "[2, 10000] loss: 0.851\n",
            "[2, 12000] loss: 0.855\n",
            "[3,  2000] loss: 0.715\n",
            "[3,  4000] loss: 0.688\n",
            "[3,  6000] loss: 0.701\n",
            "[3,  8000] loss: 0.688\n",
            "[3, 10000] loss: 0.677\n",
            "[3, 12000] loss: 0.677\n",
            "[4,  2000] loss: 0.473\n",
            "[4,  4000] loss: 0.503\n",
            "[4,  6000] loss: 0.507\n",
            "[4,  8000] loss: 0.536\n",
            "[4, 10000] loss: 0.523\n",
            "[4, 12000] loss: 0.538\n",
            "[5,  2000] loss: 0.295\n",
            "[5,  4000] loss: 0.327\n",
            "[5,  6000] loss: 0.353\n",
            "[5,  8000] loss: 0.382\n",
            "[5, 10000] loss: 0.390\n",
            "[5, 12000] loss: 0.381\n",
            "[6,  2000] loss: 0.190\n",
            "[6,  4000] loss: 0.234\n",
            "[6,  6000] loss: 0.229\n"
          ]
        }
      ],
      "source": [
        "for epoch in range(10):  # loop over the dataset multiple times\n",
        "\n",
        "    running_loss = 0.0\n",
        "    for i, data in enumerate(trainloader, 0):\n",
        "        # get the inputs\n",
        "        inputs, labels = data\n",
        "\n",
        "        # Move inputs and labels to the device (GPU if available)\n",
        "        inputs, labels = inputs.to(device), labels.to(device)\n",
        "\n",
        "        # zero the parameter gradients\n",
        "        optimizer.zero_grad()\n",
        "\n",
        "        # forward + backward + optimize\n",
        "        outputs = net(inputs)\n",
        "        loss = criterion(outputs, labels)\n",
        "        loss.backward()\n",
        "        optimizer.step()\n",
        "\n",
        "        # print statistics\n",
        "        running_loss += loss.item()\n",
        "        if i % 2000 == 1999:    # print every 2000 mini-batches\n",
        "            print('[%d, %5d] loss: %.3f' %\n",
        "                  (epoch + 1, i + 1, running_loss / 2000))\n",
        "            running_loss = 0.0\n",
        "\n",
        "print('Finished Training')"
      ]
    },
    {
      "cell_type": "markdown",
      "metadata": {
        "id": "UT6bK8siJ9td"
      },
      "source": [
        "5. Test the network on the test data\n",
        "^^^^^^^^^^^^^^^^^^^^^^^^^^^^^^^^^^^^\n",
        "\n",
        "We have trained the network for 2 passes over the training dataset.\n",
        "But we need to check if the network has learnt anything at all.\n",
        "\n",
        "We will check this by predicting the class label that the neural network\n",
        "outputs, and checking it against the ground-truth. If the prediction is\n",
        "correct, we add the sample to the list of correct predictions.\n",
        "\n",
        "Okay, first step. Let us display an image from the test set to get familiar.\n",
        "\n"
      ]
    },
    {
      "cell_type": "code",
      "execution_count": null,
      "metadata": {
        "id": "JmzR52BcJ9td"
      },
      "outputs": [],
      "source": [
        "dataiter = iter(testloader)\n",
        "# Use next(dataiter) instead of dataiter.next()\n",
        "images, labels = next(dataiter)\n",
        "\n",
        "# print images\n",
        "imshow(torchvision.utils.make_grid(images))\n",
        "print('GroundTruth: ', ' '.join('%5s' % classes[labels[j]] for j in range(4)))"
      ]
    },
    {
      "cell_type": "markdown",
      "metadata": {
        "id": "9UJ99iNvJ9td"
      },
      "source": [
        "Okay, now let us see what the neural network thinks these examples above are:\n",
        "\n"
      ]
    },
    {
      "cell_type": "code",
      "execution_count": 28,
      "metadata": {
        "id": "RtyYoxQEJ9td"
      },
      "outputs": [],
      "source": [
        "outputs = net(images.to(device)) # Move images to the same device as the network"
      ]
    },
    {
      "cell_type": "markdown",
      "metadata": {
        "id": "rfG-uPgaJ9td"
      },
      "source": [
        "The outputs are energies for the 10 classes.\n",
        "Higher the energy for a class, the more the network\n",
        "thinks that the image is of the particular class.\n",
        "So, let's get the index of the highest energy:\n",
        "\n"
      ]
    },
    {
      "cell_type": "code",
      "execution_count": 29,
      "metadata": {
        "colab": {
          "base_uri": "https://localhost:8080/"
        },
        "id": "YuXsfUMtJ9td",
        "outputId": "86034b2c-23ea-4f36-8d1e-43d4b7b4381f"
      },
      "outputs": [
        {
          "output_type": "stream",
          "name": "stdout",
          "text": [
            "Predicted:    cat  ship  ship  ship\n"
          ]
        }
      ],
      "source": [
        "_, predicted = torch.max(outputs, 1)\n",
        "\n",
        "print('Predicted: ', ' '.join('%5s' % classes[predicted[j]]\n",
        "                              for j in range(4)))"
      ]
    },
    {
      "cell_type": "markdown",
      "metadata": {
        "id": "hXIn6U4CJ9td"
      },
      "source": [
        "The results seem pretty good.\n",
        "\n",
        "Let us look at how the network performs on the whole dataset.\n",
        "\n"
      ]
    },
    {
      "cell_type": "code",
      "execution_count": 32,
      "metadata": {
        "colab": {
          "base_uri": "https://localhost:8080/"
        },
        "id": "51ckyZPHJ9td",
        "outputId": "2c3ff01b-4442-4cbb-9f51-1df099c84e66"
      },
      "outputs": [
        {
          "output_type": "stream",
          "name": "stdout",
          "text": [
            "Accuracy of the network on the 10000 test images: 50 %\n"
          ]
        }
      ],
      "source": [
        "correct = 0\n",
        "total = 0\n",
        "with torch.no_grad():\n",
        "    for data in testloader:\n",
        "        images, labels = data\n",
        "        # Move images and labels to the device (GPU if available)\n",
        "        images, labels = images.to(device), labels.to(device)\n",
        "        outputs = net(images)\n",
        "        _, predicted = torch.max(outputs.data, 1)\n",
        "        total += labels.size(0)\n",
        "        correct += (predicted == labels).sum().item()\n",
        "\n",
        "print('Accuracy of the network on the 10000 test images: %d %%' % (\n",
        "    100 * correct / total))"
      ]
    },
    {
      "cell_type": "markdown",
      "metadata": {
        "id": "_fyIEf8oJ9te"
      },
      "source": [
        "That looks waaay better than chance, which is 10% accuracy (randomly picking\n",
        "a class out of 10 classes).\n",
        "Seems like the network learnt something.\n",
        "\n",
        "Hmmm, what are the classes that performed well, and the classes that did\n",
        "not perform well:\n",
        "\n"
      ]
    },
    {
      "cell_type": "code",
      "execution_count": 34,
      "metadata": {
        "colab": {
          "base_uri": "https://localhost:8080/"
        },
        "id": "igiy_nXEJ9te",
        "outputId": "33c5c51d-9523-44db-9cd7-59b432296f4f"
      },
      "outputs": [
        {
          "output_type": "stream",
          "name": "stdout",
          "text": [
            "Accuracy of plane : 48 %\n",
            "Accuracy of   car : 81 %\n",
            "Accuracy of  bird : 32 %\n",
            "Accuracy of   cat : 28 %\n",
            "Accuracy of  deer : 35 %\n",
            "Accuracy of   dog : 29 %\n",
            "Accuracy of  frog : 58 %\n",
            "Accuracy of horse : 60 %\n",
            "Accuracy of  ship : 75 %\n",
            "Accuracy of truck : 57 %\n"
          ]
        }
      ],
      "source": [
        "class_correct = list(0. for i in range(10))\n",
        "class_total = list(0. for i in range(10))\n",
        "with torch.no_grad():\n",
        "    for data in testloader:\n",
        "        images, labels = data\n",
        "        # Move images and labels to the device (GPU if available)\n",
        "        images, labels = images.to(device), labels.to(device) # Move images to the device\n",
        "        outputs = net(images)\n",
        "        _, predicted = torch.max(outputs, 1)\n",
        "        c = (predicted == labels).squeeze()\n",
        "        for i in range(4):\n",
        "            label = labels[i]\n",
        "            class_correct[label] += c[i].item()\n",
        "            class_total[label] += 1\n",
        "\n",
        "\n",
        "for i in range(10):\n",
        "    print('Accuracy of %5s : %2d %%' % (\n",
        "        classes[i], 100 * class_correct[i] / class_total[i]))"
      ]
    },
    {
      "cell_type": "markdown",
      "metadata": {
        "id": "bEfmKESGJ9te"
      },
      "source": [
        "Okay, so what next?\n",
        "\n",
        "How do we run these neural networks on the GPU?\n",
        "\n",
        "Training on GPU\n",
        "----------------\n",
        "Just like how you transfer a Tensor on to the GPU, you transfer the neural\n",
        "net onto the GPU.\n",
        "\n",
        "Let's first define our device as the first visible cuda device if we have\n",
        "CUDA available:\n",
        "\n"
      ]
    },
    {
      "cell_type": "code",
      "execution_count": null,
      "metadata": {
        "id": "l38xVoTLJ9te"
      },
      "outputs": [],
      "source": [
        "device = torch.device(\"cuda:0\" if torch.cuda.is_available() else \"cpu\")\n",
        "\n",
        "# Assume that we are on a CUDA machine, then this should print a CUDA device:\n",
        "\n",
        "print(device)"
      ]
    },
    {
      "cell_type": "markdown",
      "metadata": {
        "id": "50qX30EhJ9te"
      },
      "source": [
        "The rest of this section assumes that `device` is a CUDA device.\n",
        "\n",
        "Then these methods will recursively go over all modules and convert their\n",
        "parameters and buffers to CUDA tensors:\n",
        "\n",
        ".. code:: python\n",
        "\n",
        "    net.to(device)\n",
        "\n",
        "\n",
        "Remember that you will have to send the inputs and targets at every step\n",
        "to the GPU too:\n",
        "\n",
        ".. code:: python\n",
        "\n",
        "        inputs, labels = inputs.to(device), labels.to(device)\n",
        "\n",
        "Why dont I notice MASSIVE speedup compared to CPU? Because your network\n",
        "is realllly small.\n",
        "\n",
        "**Exercise:** Try increasing the width of your network (argument 2 of\n",
        "the first ``nn.Conv2d``, and argument 1 of the second ``nn.Conv2d`` –\n",
        "they need to be the same number), see what kind of speedup you get.\n",
        "\n",
        "**Goals achieved**:\n",
        "\n",
        "- Understanding PyTorch's Tensor library and neural networks at a high level.\n",
        "- Train a small neural network to classify images\n",
        "\n",
        "Training on multiple GPUs\n",
        "-------------------------\n",
        "If you want to see even more MASSIVE speedup using all of your GPUs,\n",
        "please check out :doc:`data_parallel_tutorial`.\n",
        "\n",
        "Where do I go next?\n",
        "-------------------\n",
        "\n",
        "-  :doc:`Train neural nets to play video games </intermediate/reinforcement_q_learning>`\n",
        "-  `Train a state-of-the-art ResNet network on imagenet`_\n",
        "-  `Train a face generator using Generative Adversarial Networks`_\n",
        "-  `Train a word-level language model using Recurrent LSTM networks`_\n",
        "-  `More examples`_\n",
        "-  `More tutorials`_\n",
        "-  `Discuss PyTorch on the Forums`_\n",
        "-  `Chat with other users on Slack`_\n",
        "\n",
        "\n"
      ]
    }
  ],
  "metadata": {
    "kernelspec": {
      "display_name": "Python 3",
      "name": "python3"
    },
    "language_info": {
      "codemirror_mode": {
        "name": "ipython",
        "version": 3
      },
      "file_extension": ".py",
      "mimetype": "text/x-python",
      "name": "python",
      "nbconvert_exporter": "python",
      "pygments_lexer": "ipython3",
      "version": "3.6.6"
    },
    "colab": {
      "provenance": [],
      "gpuType": "T4"
    },
    "accelerator": "GPU"
  },
  "nbformat": 4,
  "nbformat_minor": 0
}